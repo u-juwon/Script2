{
 "cells": [
  {
   "cell_type": "code",
   "execution_count": 1,
   "metadata": {},
   "outputs": [
    {
     "name": "stdout",
     "output_type": "stream",
     "text": [
      "정점 개수, 간선 개수:5 6\n",
      "=====\n",
      "입력(정점(to), 정점(from), 가중치):5 1 1\n",
      "입력(정점(to), 정점(from), 가중치):1 2 2\n",
      "입력(정점(to), 정점(from), 가중치):1 3 3\n",
      "입력(정점(to), 정점(from), 가중치):2 3 4\n",
      "입력(정점(to), 정점(from), 가중치):2 4 5\n",
      "입력(정점(to), 정점(from), 가중치):3 4 6\n",
      "=====\n",
      "시작 정점 입력( 1~ 5 ): 1\n",
      "소요 시간: 0.000000초\n",
      "1 -> 1 : 0\n",
      "1 -> 2 : 2\n",
      "1 -> 3 : 3\n",
      "1 -> 4 : 7\n",
      "1 -> 5 : INF\n"
     ]
    }
   ],
   "source": [
    "import time\n",
    "\n",
    "def find_shortest(map,start,V):\n",
    "    distance = []\n",
    "    visited = [False]*V\n",
    "    for i in range(V): distance.append(map[start-1][i])\n",
    "    for j in range(V):\n",
    "        visited[j] = True\n",
    "        for k in range(V):\n",
    "            if visited[k] == False and (distance[j] + map[j][k] < distance[k]):\n",
    "                distance[k] = distance[j] + map[j][k]\n",
    "    return distance\n",
    "\n",
    "if __name__ == \"__main__\":\n",
    "    inputs = list(map(int, input(\"정점 개수, 간선 개수:\").split(' ')))\n",
    "    assert len(inputs) == 2\n",
    "    V, E = inputs\n",
    "\n",
    "    print(\"=====\")\n",
    "    distance_map = [[float('inf') if i != j else 0 for i in range(V)] for j in range(V)]\n",
    "    for i in range(E):\n",
    "        inputs = list(map(int, input(\"입력(정점(to), 정점(from), 가중치):\").split(' ')))\n",
    "        assert len(inputs) == 3\n",
    "        u, v, w = inputs\n",
    "        distance_map[u-1][v-1] = w\n",
    "    print(\"=====\")\n",
    "\n",
    "    print(\"시작 정점 입력( 1~\",V,\"):\", end = ' ')\n",
    "    start = int(input())\n",
    "    s = time.time()\n",
    "    distance = find_shortest(distance_map, start, V)\n",
    "    e = time.time()\n",
    "    print(\"소요 시간: {0:3.6f}초\".format(e-s))\n",
    "    for i in range(len(distance)):\n",
    "        print(start, \"->\", i+1, \": \", end = '')\n",
    "        if distance[i] == float('inf'): print('INF')\n",
    "        else: print(distance[i])"
   ]
  },
  {
   "cell_type": "code",
   "execution_count": null,
   "metadata": {},
   "outputs": [],
   "source": []
  }
 ],
 "metadata": {
  "kernelspec": {
   "display_name": "Python 3",
   "language": "python",
   "name": "python3"
  },
  "language_info": {
   "codemirror_mode": {
    "name": "ipython",
    "version": 3
   },
   "file_extension": ".py",
   "mimetype": "text/x-python",
   "name": "python",
   "nbconvert_exporter": "python",
   "pygments_lexer": "ipython3",
   "version": "3.8.3"
  }
 },
 "nbformat": 4,
 "nbformat_minor": 4
}
